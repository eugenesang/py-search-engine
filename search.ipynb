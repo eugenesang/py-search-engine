{
 "cells": [
  {
   "cell_type": "code",
   "execution_count": 1,
   "metadata": {},
   "outputs": [],
   "source": [
    "import pandas as pd\n",
    "from sklearn.feature_extraction.text import TfidfVectorizer\n",
    "from sklearn.metrics.pairwise import linear_kernel"
   ]
  },
  {
   "cell_type": "markdown",
   "metadata": {},
   "source": [
    "### Load raw data"
   ]
  },
  {
   "cell_type": "code",
   "execution_count": 2,
   "metadata": {},
   "outputs": [],
   "source": [
    "df_products = pd.read_json('./raw-data/cleanJobs.json')"
   ]
  },
  {
   "cell_type": "markdown",
   "metadata": {},
   "source": [
    "### Defining a dictionary"
   ]
  },
  {
   "cell_type": "code",
   "execution_count": 3,
   "metadata": {},
   "outputs": [],
   "source": [
    "tfidf = TfidfVectorizer(stop_words='english')\n",
    "df_products['description'] = df_products['description'].fillna('')\n",
    "tfidf_matrix = tfidf.fit_transform(df_products['description'])"
   ]
  },
  {
   "cell_type": "markdown",
   "metadata": {},
   "source": [
    "### Cosine sim: \n",
    "The most time consuming part: run time 5m 50s in my machine. But it is worth it"
   ]
  },
  {
   "cell_type": "code",
   "execution_count": 4,
   "metadata": {},
   "outputs": [],
   "source": [
    "cosine_sim = linear_kernel(tfidf_matrix, tfidf_matrix)"
   ]
  },
  {
   "cell_type": "markdown",
   "metadata": {},
   "source": [
    "### Create indices \n",
    "*AKA Index the data*"
   ]
  },
  {
   "cell_type": "code",
   "execution_count": 6,
   "metadata": {},
   "outputs": [
    {
     "data": {
      "text/plain": [
       "_id\n",
       "64fb9e437822e405a3994faa        0\n",
       "64fb9e447822e405a3994fae        1\n",
       "64fb9e467822e405a3994fb2        2\n",
       "64fb9e477822e405a3994fb6        3\n",
       "64fb9e487822e405a3994fba        4\n",
       "                            ...  \n",
       "65a80607ca4b20fa591c37cf    26128\n",
       "65a80646ca4b20fa591c37dc    26129\n",
       "65a8066cca4b20fa591c37e9    26130\n",
       "65a806e7ca4b20fa591c37f6    26131\n",
       "65a80726ca4b20fa591c3803    26132\n",
       "Length: 26133, dtype: int64"
      ]
     },
     "execution_count": 6,
     "metadata": {},
     "output_type": "execute_result"
    }
   ],
   "source": [
    "indices = pd.Series(df_products.index, index=df_products['_id']).drop_duplicates()\n",
    "indices"
   ]
  },
  {
   "cell_type": "markdown",
   "metadata": {},
   "source": [
    "### Original idea: Recommender Algorithm\n",
    "Takes the description of a given record, and returns the most related ones"
   ]
  },
  {
   "cell_type": "code",
   "execution_count": 7,
   "metadata": {},
   "outputs": [],
   "source": [
    "def get_recommendations(id, cosine_sim = cosine_sim):\n",
    "    idx = indices[id]\n",
    "    sim_scores = enumerate(cosine_sim[idx])\n",
    "    sim_scores = sorted(sim_scores, key=lambda x:x[1], reverse=True)\n",
    "    sim_scores = sim_scores[1:11]\n",
    "    sim_index=[i[0] for i in sim_scores]\n",
    "    print(df_products['_id'].iloc[sim_index])"
   ]
  },
  {
   "cell_type": "markdown",
   "metadata": {},
   "source": [
    "Run the function: run time in my machine 0.0s for 26k records\n",
    "Just make sure the ID you pass is of a record that exists in our file"
   ]
  },
  {
   "cell_type": "code",
   "execution_count": 9,
   "metadata": {},
   "outputs": [
    {
     "name": "stdout",
     "output_type": "stream",
     "text": [
      "12693    64fbc1447822e405a39a160a\n",
      "704      64fba0d77822e405a3995aac\n",
      "16848    64fbcc607822e405a39a56f6\n",
      "3333     64fba83c7822e405a39983c6\n",
      "12271    64fbc0247822e405a39a0f72\n",
      "18386    64fc283bc4c7ca19f07ee9bf\n",
      "5483     64fbae057822e405a399a55e\n",
      "3207     64fba7e87822e405a39981ce\n",
      "25006    65a370827a427dbd6ac3475c\n",
      "296      64fb9f707822e405a399544a\n",
      "Name: _id, dtype: object\n"
     ]
    }
   ],
   "source": [
    "get_recommendations(\"64fb9e487822e405a3994fba\")"
   ]
  },
  {
   "cell_type": "markdown",
   "metadata": {},
   "source": [
    "### The search algorithm\n",
    "The previous code searches for records whose description is similar to the one in question \n",
    "#\n",
    "For example, if we have records A,B,C,...,Y,Z, \n",
    "- then a user selects record 'W', \n",
    "- the algorithm ranks all the records according to how similar their descriptions are to that of record 'W'.\n",
    "- The records with most similar descriptions come first and those with most dis-similar descriptions come last.\n",
    "- Finally it returns the first `n` number of records specified in our case: `n = 11`\n",
    "#\n",
    "In our modification:\n",
    "- Instead of finding a record then use its description as a point of reference: we use a custom input\n",
    "- The rest of the code works the same"
   ]
  },
  {
   "cell_type": "code",
   "execution_count": 10,
   "metadata": {},
   "outputs": [],
   "source": [
    "def search(input_text):\n",
    "    # Transform the input text into a TF-IDF vector\n",
    "    input_vector = tfidf.transform([input_text])\n",
    "\n",
    "    # Compute the cosine similarity between the input text and all job descriptions\n",
    "    cosine_scores = linear_kernel(input_vector, tfidf_matrix).flatten()\n",
    "\n",
    "    # Get the indices of job descriptions sorted by similarity\n",
    "    similar_indices = cosine_scores.argsort()[::-1]\n",
    "\n",
    "    # Return the top 10 most similar job IDs and their descriptions\n",
    "    top_similar_indices = similar_indices[1:11]\n",
    "    job_recommendations = [(df_products['_id'].iloc[i], df_products['description'].iloc[i]) for i in top_similar_indices]\n",
    "\n",
    "    return job_recommendations"
   ]
  },
  {
   "cell_type": "markdown",
   "metadata": {},
   "source": []
  },
  {
   "cell_type": "code",
   "execution_count": 11,
   "metadata": {},
   "outputs": [
    {
     "data": {
      "text/plain": [
       "[('64fbca4e7822e405a39a4b16',\n",
       "  \"Job Title: Esthetician Job Summary: As an Esthetician, you will be responsible for providing professional skin care treatments to clients, including facials, waxing, and other skin care services. You will analyze clients' skin conditions, make recommendations for treatment plans, and perform procedures to improve and maintain the health and appearance of their skin. You will also educate clients on proper skin care techniques and provide guidance on how to achieve optimal skin health. Additionally, you will assist with maintaining a clean and sanitary work environment and ensure compliance with all applicable health and safety regulations. Responsibilities: Provide professional skin care treatments to clients, including facials, waxing, and other skin care services, following established protocols and guidelines. Conduct thorough skin analyses to determine clients' skin conditions and develop appropriate treatment plans. Perform a wide range of esthetic procedures, such as deep cleansing, exfoliation, extractions, and mask applications, using various techniques and products. Educate clients on proper skin care techniques, product usage, and lifestyle recommendations to improve and maintain the health and appearance of their skin. Stay up-to-date with the latest trends, technologies, and advancements in esthetics, and continuously enhance knowledge and skills through training and professional development opportunities. Maintain accurate and detailed client records, including treatment notes, products used, and follow-up recommendations. Keep treatment rooms and equipment clean, sanitized, and well-organized, and ensure compliance with all health and safety regulations. Provide exceptional customer service, build and maintain strong relationships with clients, and promote client retention and repeat business. Assist with product inventory management, including restocking and replenishing supplies as needed. Collaborate with other team members and work effectively in a collaborative environment to ensure a positive and cohesive work environment. Qualifications: Valid esthetician license or certification from a recognized institution. Proven experience as an esthetician, with a solid understanding of skin care treatments, products, and techniques. Excellent knowledge of skin anatomy, physiology, and conditions, and ability to analyze clients' skin conditions and develop appropriate treatment plans. Strong skills in performing various esthetic procedures, such as facials, waxing, and other skin care services, using different techniques and products. Ability to educate and communicate effectively with clients on proper skin care techniques, product usage, and lifestyle recommendations. Knowledge of health and safety regulations and ability to maintain a clean and sanitary work environment. Strong customer service skills, with the ability to build and maintain relationships with clients. Excellent interpersonal skills and ability to work effectively in a team environment. Professionalism, reliability, and punctuality. Willingness to continuously learn and upgrade skills through training and professional development opportunities. Flexibility to work weekends, evenings, and holidays as needed. This job description is intended to convey information essential to understanding the scope of the Esthetician's position and is not an exhaustive list of skills, efforts, duties, responsibilities, or working conditions associated with it. The company reserves the right to modify, add, or remove duties or job functions as necessary.\"),\n",
       " ('64fbc2ce7822e405a39a1f06',\n",
       "  'Looking for a Filipino product review writer to write about the best Skin Care Products in the philippines vibrant glamour retinol cream review belo underarm whitening cream review her skin review bioten skin moisture review aqua skin glutathione review dhc collagen review frozen collagen review pure beauty collagen review cocoberry soap review dr sensitive underarm whitening serum review luxe organix serum review hikari glutathione review aqua skin glutathione review miracle white glutathione review kyowa air fryer review hanabishi air fryer review kaisa villa air fryer review miracle white glutathione review luxe organix underarm whitening review aozi dog food review top breed dog food review gluta lipo review tokyo coffee review lishou coffee review (People who are skin care enthusiast are a plus) We pay $5 for every 1500 words This is a perfect opportunity to those who want to build their Workhub writers profile. We have helped several freelancers become top rated here on WorkHub Writers.'),\n",
       " ('64fbc9e67822e405a39a48aa',\n",
       "  'Looking for a 1-2 page \"top skin care/hair care/body care trends for 2023\" Doesn\\'t need to be more than 700 words. Strong knowledge of the beauty industry is a must.'),\n",
       " ('64fbb99b7822e405a399e8d6',\n",
       "  'We are looking for help with product testing for 1 of our skin care products. We have a start-up brand in the U.S. and sell our products on e-commerce platforms. We are looking for product testers living in the United States to undertake a detailed questionnaire and give honest feedback on the efficiency of our upcoming products. We want to understand which product is better and why. We will be sending you the products to try and review and you will receive a 5-star review in exchange for your honest feedback. We pay $30 per product review and will have 2 projects per month for the right candidates. Products will be shipped to you within a week and once you receive it, you will be expected to fill an in-depth questionnaire to help us understand the efficiency of the products.'),\n",
       " ('6581f7d5ce7470cbddbaded2',\n",
       "  \"We are currently translating our Terms of Use page and our Privacy Policy page. For that, we've used a translator to translate the texts from English to Filipino, but I'd love for an expert Filipino proofreader to go through the translated text and make any edits required to make sure it is clear, well-written, error-free, and represents us well. It is important for us that a person manually goes through texts to proofread them and make sure they are good. \\n\\nThere are 2 texts with a combined word count of  6259 in Filipino. \\n\\nWe are looking for someone who also reads English well enough so that if they have doubts about the text in Filipino, they can refer to the English text to clarify and resolve the issue. \\n\\nWhen you apply, please tell us how much you would charge to do this and how long it would take you.\\n\\nThanks \"),\n",
       " ('65a08431fa87b5bb5926d9db',\n",
       "  'Hi Experts, for our SKIN care and Nutrition Brand we need some documents (packaging and brochure) to be translated. The Text is already in German (if needed in English) and needs to be translated into FRENCH. Looking forward to hear back. As there are very specific words (special ingredients) it would be important you are familiar in with SKIN CARE / cosmetic field. Looking forward to hear back tina'),\n",
       " ('659b36073052baa49c8071ef',\n",
       "  'Hello,\\n\\nWe are recruiting Talented Business Development Manager in the Cosmetics and Perfume products. If you have experience in Business development of Perfumes lines and Skin care products, please contact us asap. \\n\\nThanks\\n\\nDan'),\n",
       " ('64fba0c17822e405a3995a40',\n",
       "  'WE searching to LIcense small PATENTED skin care to Fashion or Beauty Retail how you can help us?'),\n",
       " ('65a4096445eb8330a90a398f',\n",
       "  'Hello we needs a writers that can translate from English to Hindi, Filipino , Arabic and Spanish for more job details kindly send a message'),\n",
       " ('6573582403af8fd3d491213d',\n",
       "  'we need urgent help for exellent orogaph and presentation of I skin care REport')]"
      ]
     },
     "execution_count": 11,
     "metadata": {},
     "output_type": "execute_result"
    }
   ],
   "source": [
    "search(\"Filipino product review writer to write about the best Skin Care Products in the philippines\")"
   ]
  }
 ],
 "metadata": {
  "kernelspec": {
   "display_name": "Python 3",
   "language": "python",
   "name": "python3"
  },
  "language_info": {
   "codemirror_mode": {
    "name": "ipython",
    "version": 3
   },
   "file_extension": ".py",
   "mimetype": "text/x-python",
   "name": "python",
   "nbconvert_exporter": "python",
   "pygments_lexer": "ipython3",
   "version": "3.11.5"
  },
  "orig_nbformat": 4
 },
 "nbformat": 4,
 "nbformat_minor": 2
}
